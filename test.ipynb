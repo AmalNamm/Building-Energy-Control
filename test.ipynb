{
 "cells": [
  {
   "cell_type": "code",
   "execution_count": null,
   "id": "4041ee0e-8b3d-42f5-8ba0-1d63337740c2",
   "metadata": {
    "tags": []
   },
   "outputs": [],
   "source": [
    "%run local_evaluation.py"
   ]
  },
  {
   "cell_type": "code",
   "execution_count": null,
   "id": "a8109db2-2eb9-4f93-be04-ed2513711bb6",
   "metadata": {
    "tags": []
   },
   "outputs": [],
   "source": [
    "%run local_evaluation.py"
   ]
  },
  {
   "cell_type": "code",
   "execution_count": null,
   "id": "880226dc-d17c-4177-bae6-d5021ca97438",
   "metadata": {
    "tags": []
   },
   "outputs": [],
   "source": [
    "%run local_evaluation.py\n",
    "#RLC"
   ]
  },
  {
   "cell_type": "code",
   "execution_count": null,
   "id": "7c9b51b2-4266-46c8-a0fa-e26f567128bf",
   "metadata": {
    "tags": []
   },
   "outputs": [],
   "source": [
    "%run local_evaluation.py"
   ]
  },
  {
   "cell_type": "code",
   "execution_count": null,
   "id": "3e806eee-6b80-4db4-859a-987e2ade5690",
   "metadata": {
    "tags": []
   },
   "outputs": [],
   "source": []
  },
  {
   "cell_type": "code",
   "execution_count": null,
   "id": "3f1dde4a-9da2-4cf1-bc61-5413c1457690",
   "metadata": {
    "tags": []
   },
   "outputs": [],
   "source": [
    "from citylearn.agents.rbc import BasicRBC as RBCAgent\n",
    "from citylearn.citylearn import CityLearnEnv, EvaluationCondition\n"
   ]
  },
  {
   "cell_type": "code",
   "execution_count": null,
   "id": "ecbfc2b3-ebdc-4fec-8020-1b2ede5fc865",
   "metadata": {
    "tags": []
   },
   "outputs": [],
   "source": [
    "\n",
    "dataset_name = 'citylearn_challenge_2022_phase_1'\n",
    "env = CityLearnEnv(dataset_name, central_agent=True, simulation_end_time_step=1000)\n",
    "model = RBCAgent(env)\n",
    "model.learn(episodes=1)\n",
    "\n"
   ]
  },
  {
   "cell_type": "code",
   "execution_count": null,
   "id": "8ca64c88-20ce-4a7a-beaf-f2befe9f1ad4",
   "metadata": {
    "tags": []
   },
   "outputs": [],
   "source": [
    "# print cost functions at the end of episode\n",
    "kpis = model.env.evaluate(baseline_condition=EvaluationCondition.WITHOUT_STORAGE_BUT_WITH_PARTIAL_LOAD_AND_PV)\n",
    "kpis = kpis.pivot(index='cost_function', columns='name', values='value')\n",
    "kpis = kpis.dropna(how='all')\n",
    "display(kpis)"
   ]
  },
  {
   "cell_type": "code",
   "execution_count": null,
   "id": "26db889c-7ed8-4b6b-86d7-d76a721854f0",
   "metadata": {
    "tags": []
   },
   "outputs": [],
   "source": [
    "\n",
    "dataset_name = 'citylearn_challenge_2022_phase_1'\n",
    "env = CityLearnEnv(dataset_name, central_agent=True, simulation_end_time_step=1000)\n",
    "model = RBCAgent(env)\n",
    "model.learn(episodes=10)"
   ]
  },
  {
   "cell_type": "code",
   "execution_count": null,
   "id": "6b0926db-6d17-4fa9-adfa-3c6e23daf6f2",
   "metadata": {
    "tags": []
   },
   "outputs": [],
   "source": [
    "# print cost functions at the end of episode\n",
    "kpis = model.env.evaluate(baseline_condition=EvaluationCondition.WITHOUT_STORAGE_BUT_WITH_PARTIAL_LOAD_AND_PV)\n",
    "kpis = kpis.pivot(index='cost_function', columns='name', values='value')\n",
    "kpis = kpis.dropna(how='all')\n",
    "display(kpis)"
   ]
  },
  {
   "cell_type": "code",
   "execution_count": null,
   "id": "32518c48-9af2-43b0-8a51-3d5a45c45469",
   "metadata": {
    "tags": []
   },
   "outputs": [],
   "source": [
    "from citylearn.agents.sac import SAC as RLAgent\n",
    "from citylearn.citylearn import CityLearnEnv, EvaluationCondition\n",
    "\n",
    "dataset_name = 'citylearn_challenge_2022_phase_1'\n",
    "env = CityLearnEnv(dataset_name, central_agent=False, simulation_end_time_step=1000)\n",
    "model = RLAgent(env)\n",
    "model.learn(episodes=2, deterministic_finish=True)\n",
    "\n",
    "# print cost functions at the end of episode\n",
    "kpis = model.env.evaluate(baseline_condition=EvaluationCondition.WITHOUT_STORAGE_BUT_WITH_PARTIAL_LOAD_AND_PV)\n",
    "kpis = kpis.pivot(index='cost_function', columns='name', values='value')\n",
    "kpis = kpis.dropna(how='all')\n",
    "display(kpis)"
   ]
  },
  {
   "cell_type": "code",
   "execution_count": null,
   "id": "f016cdd8-1381-43cb-8ee5-4999f028889c",
   "metadata": {
    "tags": []
   },
   "outputs": [],
   "source": [
    "model.learn(episodes=2, deterministic_finish=False)"
   ]
  },
  {
   "cell_type": "code",
   "execution_count": null,
   "id": "4d18a98a-09db-41de-944f-04872f72705a",
   "metadata": {
    "tags": []
   },
   "outputs": [],
   "source": [
    "# print cost functions at the end of episode\n",
    "kpis = model.env.evaluate(baseline_condition=EvaluationCondition.WITHOUT_STORAGE_BUT_WITH_PARTIAL_LOAD_AND_PV)\n",
    "kpis = kpis.pivot(index='cost_function', columns='name', values='value')\n",
    "kpis = kpis.dropna(how='all')\n",
    "display(kpis)"
   ]
  },
  {
   "cell_type": "code",
   "execution_count": null,
   "id": "a59dbdcb-cfac-4ab2-a54b-487d988517ba",
   "metadata": {},
   "outputs": [],
   "source": [
    "from stable_baselines3.sac import SAC\n",
    "from citylearn.citylearn import CityLearnEnv\n",
    "from citylearn.wrappers import NormalizedObservationWrapper, StableBaselines3Wrapper\n",
    "\n",
    "dataset_name = 'baeda_3dem'\n",
    "env = CityLearnEnv(dataset_name, central_agent=True, simulation_end_time_step=1000)\n",
    "env = NormalizedObservationWrapper(env)\n",
    "env = StableBaselines3Wrapper(env)\n",
    "model = SAC('MlpPolicy', env)\n",
    "model.learn(total_timesteps=env.time_steps*2)\n",
    "\n",
    "# evaluate\n",
    "observations = env.reset()\n",
    "\n",
    "while not env.done:\n",
    "    actions, _ = model.predict(observations, deterministic=True)\n",
    "    observations, _, _, _ = env.step(actions)\n",
    "\n",
    "kpis = env.evaluate()\n",
    "kpis = kpis.pivot(index='cost_function', columns='name', values='value')\n",
    "kpis = kpis.dropna(how='all')\n",
    "display(kpis)"
   ]
  },
  {
   "cell_type": "markdown",
   "id": "069d255b-245c-494e-a689-2fb568ba406d",
   "metadata": {},
   "source": [
    "## Load an Environment Using Schema Dictionary Object"
   ]
  },
  {
   "cell_type": "code",
   "execution_count": null,
   "id": "e027a329-6be9-4fe7-b249-2861d1cfe478",
   "metadata": {
    "tags": []
   },
   "outputs": [],
   "source": [
    "import pandas as pd\n",
    "import matplotlib.pyplot as plt\n",
    "%matplotlib inline\n"
   ]
  },
  {
   "cell_type": "code",
   "execution_count": null,
   "id": "ba3f176a-e6f0-4186-be8b-5f8e9417e651",
   "metadata": {
    "tags": []
   },
   "outputs": [],
   "source": [
    "from citylearn.citylearn import CityLearnEnv\n",
    "import os\n",
    "from citylearn.utilities import read_json\n",
    "\n",
    "schema_filepath = '/home/amalnamm/work/Neurips CityLearn/GIT/citylearn-2023-starter-kit/data/schemas/warm_up/schema.json'\n",
    "schema = read_json(schema_filepath)\n",
    "schema['root_directory'] = '/home/amalnamm/work/Neurips CityLearn/GIT/citylearn-2023-starter-kit/data/schemas/warm_up'\n",
    "env = CityLearnEnv(schema)"
   ]
  },
  {
   "cell_type": "code",
   "execution_count": null,
   "id": "e9206d50-278c-499e-a8ad-5a26c8fc6be0",
   "metadata": {
    "tags": []
   },
   "outputs": [],
   "source": [
    "from citylearn.agents.sac import SAC as RLAgent\n",
    "from citylearn.citylearn import CityLearnEnv, EvaluationCondition\n",
    "\n",
    "#dataset_name = 'citylearn_challenge_2022_phase_1'\n",
    "#env = CityLearnEnv(dataset_name, central_agent=False, simulation_end_time_step=1000)\n",
    "env = CityLearnEnv(schema, central_agent=False)\n",
    "model = RLAgent(env)\n"
   ]
  },
  {
   "cell_type": "code",
   "execution_count": null,
   "id": "17730986-40b7-4101-805e-f0effb0bd493",
   "metadata": {
    "tags": []
   },
   "outputs": [],
   "source": [
    "model.learn(episodes=2, deterministic_finish=True)\n",
    "\n",
    "# print cost functions at the end of episode\n",
    "kpis = model.env.evaluate(baseline_condition=EvaluationCondition.WITHOUT_STORAGE_BUT_WITH_PARTIAL_LOAD_AND_PV)\n",
    "kpis = kpis.pivot(index='cost_function', columns='name', values='value')\n",
    "kpis = kpis.dropna(how='all')\n",
    "display(kpis)"
   ]
  },
  {
   "cell_type": "code",
   "execution_count": null,
   "id": "6a4e607d-b534-4cf7-bae5-8a91c83d4ec1",
   "metadata": {
    "tags": []
   },
   "outputs": [],
   "source": [
    "model.learn(episodes=10, deterministic_finish=True)\n",
    "\n",
    "# print cost functions at the end of episode\n",
    "kpis = model.env.evaluate(baseline_condition=EvaluationCondition.WITHOUT_STORAGE_BUT_WITH_PARTIAL_LOAD_AND_PV)\n",
    "kpis = kpis.pivot(index='cost_function', columns='name', values='value')\n",
    "kpis = kpis.dropna(how='all')\n",
    "display(kpis)"
   ]
  },
  {
   "cell_type": "code",
   "execution_count": null,
   "id": "c13a2209-a4b7-44d9-b139-eef7d70eae85",
   "metadata": {
    "tags": []
   },
   "outputs": [],
   "source": [
    "metrics_df = env.evaluate_citylearn_challenge()"
   ]
  },
  {
   "cell_type": "code",
   "execution_count": null,
   "id": "f6522411-1546-4d5f-9af5-f131a2c9f6dc",
   "metadata": {
    "tags": []
   },
   "outputs": [],
   "source": [
    "metrics_df"
   ]
  },
  {
   "cell_type": "code",
   "execution_count": null,
   "id": "a608a039-3d69-49fc-a7cf-788b7e3b44ca",
   "metadata": {
    "tags": []
   },
   "outputs": [],
   "source": [
    "observations = env.reset()\n"
   ]
  },
  {
   "cell_type": "code",
   "execution_count": null,
   "id": "56847aa8-f7a2-46b0-b98b-53ba641fb525",
   "metadata": {
    "tags": []
   },
   "outputs": [],
   "source": [
    "observations"
   ]
  },
  {
   "cell_type": "code",
   "execution_count": null,
   "id": "87e22536-73bd-4503-a86c-55510b4be1ae",
   "metadata": {
    "tags": []
   },
   "outputs": [],
   "source": [
    "model.predict(observations)"
   ]
  },
  {
   "cell_type": "code",
   "execution_count": null,
   "id": "9a325cad-d1b8-4967-9c89-74ba7655372d",
   "metadata": {
    "tags": []
   },
   "outputs": [],
   "source": [
    "# Save the final trained model\n"
   ]
  },
  {
   "cell_type": "code",
   "execution_count": null,
   "id": "94cf5c2a-5e17-45c8-a950-2c6189e8fda2",
   "metadata": {
    "tags": []
   },
   "outputs": [],
   "source": [
    "import torch\n",
    "torch.save({\n",
    "    'model_state_dict': model.policy_net[0].state_dict(),\n",
    "    # ... add any other things you want to save\n",
    "}, \"final_model.pt\")\n"
   ]
  },
  {
   "cell_type": "code",
   "execution_count": null,
   "id": "06e8fafb-43f4-4b59-9a39-0bd976bf0bd3",
   "metadata": {
    "tags": []
   },
   "outputs": [],
   "source": []
  },
  {
   "cell_type": "code",
   "execution_count": null,
   "id": "34fb4ddd-541f-404c-83e2-3b131f4fbf50",
   "metadata": {
    "tags": []
   },
   "outputs": [],
   "source": [
    "# Assuming you have already imported the necessary libraries and defined the SAC agent\n",
    "\n",
    "checkpoint = torch.load(\"final_model.pt\")\n",
    "model.policy_net[0].load_state_dict(checkpoint['model_state_dict'])\n"
   ]
  },
  {
   "cell_type": "code",
   "execution_count": null,
   "id": "5278dc9e-d766-4ba0-9825-dbf8d63eb8e6",
   "metadata": {
    "tags": []
   },
   "outputs": [],
   "source": [
    "model.predict(observations)"
   ]
  },
  {
   "cell_type": "code",
   "execution_count": null,
   "id": "4eda8eec-8b9e-4534-bd82-a52defce9b22",
   "metadata": {
    "tags": []
   },
   "outputs": [],
   "source": [
    "model.policy_net[0].eval()\n"
   ]
  },
  {
   "cell_type": "code",
   "execution_count": null,
   "id": "03954492-9835-46eb-bbdd-081d186d9177",
   "metadata": {
    "tags": []
   },
   "outputs": [],
   "source": [
    "schema"
   ]
  },
  {
   "cell_type": "markdown",
   "id": "c0a41833-313a-44a7-91b2-08f6968c64db",
   "metadata": {},
   "source": [
    "Some schema parameters can also be overriden by parsing them directly to the citylearn.citylearn.CityLearnEnv constructor:"
   ]
  },
  {
   "cell_type": "code",
   "execution_count": null,
   "id": "4a1e95bb-f566-4418-bbf5-fdbd90b6c990",
   "metadata": {},
   "outputs": [],
   "source": [
    "#from citylearn.citylearn import CityLearnEnv\n",
    "#from citylearn.utilities import read_json\n",
    "\n",
    "#schema_filepath = 'citylearn_challenge_2020_climate_zone_1/schema.json'\n",
    "#schema = read_json(schema_filepath)\n",
    "#env = CityLearnEnv(\n",
    "#    schema,\n",
    "#    root_directory='citylearn_challenge_2020_climate_zone_1',\n",
    "#    central_agent=True,\n",
    "#    simulation_start_time_step=10\n",
    "#)"
   ]
  },
  {
   "cell_type": "code",
   "execution_count": null,
   "id": "f0a97000-3dc2-4b8a-9d3e-ebb3e6a9bd81",
   "metadata": {
    "tags": []
   },
   "outputs": [],
   "source": [
    "root_directory = schema['root_directory']\n",
    "\n",
    "# change the suffix number in the next code line to a\n",
    "# number between 1 and 17 to preview other buildings\n",
    "building_name = 'Building_1'\n",
    "\n",
    "filename = schema['buildings'][building_name]['energy_simulation']\n",
    "filepath = os.path.join(root_directory, filename)\n",
    "building_data = pd.read_csv(filepath)\n",
    "display(building_data.head())"
   ]
  },
  {
   "cell_type": "code",
   "execution_count": null,
   "id": "c752e950-e53c-4410-b086-ba7f58e97bcd",
   "metadata": {
    "tags": []
   },
   "outputs": [],
   "source": [
    "display(building_data.head(10))"
   ]
  },
  {
   "cell_type": "code",
   "execution_count": null,
   "id": "04be6b32-5a68-472e-b35f-3a3ab67a0bd8",
   "metadata": {
    "tags": []
   },
   "outputs": [],
   "source": [
    "root_directory"
   ]
  },
  {
   "cell_type": "code",
   "execution_count": null,
   "id": "c5f6cbfe-aa14-458a-82ee-524df53322d7",
   "metadata": {
    "tags": []
   },
   "outputs": [],
   "source": [
    "building_name = 'Building_2'\n",
    "\n",
    "filename = schema['buildings'][building_name]['energy_simulation']\n",
    "filepath = os.path.join(root_directory, filename)\n",
    "building_data = pd.read_csv(filepath)\n",
    "display(building_data.head(10))"
   ]
  },
  {
   "cell_type": "code",
   "execution_count": null,
   "id": "87693b84-db97-4aec-b4f7-dc3b65cb78cb",
   "metadata": {
    "tags": []
   },
   "outputs": [],
   "source": [
    "display(building_data.describe(include='all'))"
   ]
  },
  {
   "cell_type": "code",
   "execution_count": null,
   "id": "29f92b67-4d4d-4c11-9a06-e967accdd9c2",
   "metadata": {
    "tags": []
   },
   "outputs": [],
   "source": [
    "fig, axs = plt.subplots(1, 2, figsize=(18, 2))\n",
    "x = building_data.index\n",
    "y1 = building_data['Equipment Electric Power (kWh)']\n",
    "y2 = building_data['Solar Generation (W/kW)']\n",
    "axs[0].plot(x, y1)\n",
    "axs[0].set_xlabel('Time step')\n",
    "axs[0].set_ylabel('Equipment Electric Power\\n[kWh]')\n",
    "axs[1].plot(x, y2)\n",
    "axs[1].set_xlabel('Time step')\n",
    "axs[1].set_ylabel('Solar Generation\\n[W/kW]')\n",
    "fig.suptitle(building_name)\n",
    "plt.show()"
   ]
  },
  {
   "cell_type": "markdown",
   "id": "87dda298-f0bd-4e8a-b9ab-1dd95886eaae",
   "metadata": {
    "tags": []
   },
   "source": [
    "### Preview Weather File"
   ]
  },
  {
   "cell_type": "code",
   "execution_count": null,
   "id": "8435fba4-30a4-4c82-adb0-1d4d864874f8",
   "metadata": {
    "tags": []
   },
   "outputs": [],
   "source": [
    "filename = schema['buildings'][building_name]['weather']\n",
    "filepath = os.path.join(root_directory, filename)\n",
    "weather_data = pd.read_csv(filepath)\n",
    "display(weather_data.head())"
   ]
  },
  {
   "cell_type": "code",
   "execution_count": null,
   "id": "b79847e0-9b23-41cc-ab64-63acfddda376",
   "metadata": {
    "tags": []
   },
   "outputs": [],
   "source": [
    "display(weather_data.describe(include='all'))"
   ]
  },
  {
   "cell_type": "code",
   "execution_count": null,
   "id": "c4968cc6-650a-4f99-b4c1-a2c97f20b9c3",
   "metadata": {
    "tags": []
   },
   "outputs": [],
   "source": [
    "columns = [\n",
    "    'Outdoor Drybulb Temperature (C)', 'Outdoor Relative Humidity (%)',\n",
    "    'Diffuse Solar Radiation (W/m2)', 'Direct Solar Radiation (W/m2)'\n",
    "]\n",
    "fig, axs = plt.subplots(2, 2, figsize=(18, 5))\n",
    "x = weather_data.index\n",
    "\n",
    "for ax, c in zip(fig.axes, columns):\n",
    "    y = weather_data[c]\n",
    "    ax.plot(x, y)\n",
    "    ax.set_xlabel('Time step')\n",
    "    ax.set_ylabel(c)\n",
    "\n",
    "fig.align_ylabels()\n",
    "plt.tight_layout()\n",
    "plt.show()"
   ]
  },
  {
   "cell_type": "markdown",
   "id": "769e367d-aa2d-4674-bc6a-c37ca2761898",
   "metadata": {
    "tags": []
   },
   "source": [
    "### Preview Electricity Price Data\n"
   ]
  },
  {
   "cell_type": "code",
   "execution_count": null,
   "id": "18ac4e65-c481-410e-af21-665f7970ea59",
   "metadata": {
    "tags": []
   },
   "outputs": [],
   "source": [
    "filename = schema['buildings'][building_name]['pricing']\n",
    "filepath = os.path.join(root_directory, filename)\n",
    "pricing_data = pd.read_csv(filepath)\n",
    "display(pricing_data.head())"
   ]
  },
  {
   "cell_type": "code",
   "execution_count": null,
   "id": "f189b7ce-96f1-481f-baa3-6390e2989f50",
   "metadata": {
    "tags": []
   },
   "outputs": [],
   "source": [
    "fig, ax = plt.subplots(1, 1, figsize=(9, 2))\n",
    "x = pricing_data.index\n",
    "y = pricing_data['Electricity Pricing [$/kWh]']\n",
    "ax.plot(x, y)\n",
    "ax.set_xlabel('Time step')\n",
    "ax.set_ylabel('Electricity Pricing [$/kWh]')\n",
    "plt.show()"
   ]
  },
  {
   "cell_type": "code",
   "execution_count": null,
   "id": "89d756a7-806e-4ff0-bc70-84f833b2bd3d",
   "metadata": {
    "tags": []
   },
   "outputs": [],
   "source": [
    "from scipy.signal import find_peaks"
   ]
  },
  {
   "cell_type": "code",
   "execution_count": null,
   "id": "8febbe1e-dff3-4af3-9820-5f86b0c1e394",
   "metadata": {
    "tags": []
   },
   "outputs": [],
   "source": [
    "from scipy.signal import find_peaks\n",
    "your_threshold_value = 0.05\n",
    "# The height parameter can be adjusted to determine what is considered a peak.\n",
    "peaks, _ = find_peaks(pricing_data['Electricity Pricing [$/kWh]'], height=your_threshold_value)"
   ]
  },
  {
   "cell_type": "code",
   "execution_count": null,
   "id": "0e4f8810-6c86-442d-82b2-4c4a605cf8da",
   "metadata": {
    "tags": []
   },
   "outputs": [],
   "source": [
    "peaks"
   ]
  },
  {
   "cell_type": "code",
   "execution_count": null,
   "id": "d4f0ca37-5367-414f-b742-40e6d4909a31",
   "metadata": {
    "tags": []
   },
   "outputs": [],
   "source": [
    "def hour_to_time(hour):\n",
    "    # Convert the hour to 24-hour format\n",
    "    time_24h = (hour - 1) % 24 + 1\n",
    "    \n",
    "    # Convert 24-hour value to string format HH:MM\n",
    "    if time_24h == 24:\n",
    "        return '00:00'\n",
    "    else:\n",
    "        return f'{time_24h:02d}:00'\n",
    "\n",
    "peak_start_hours = [16, 88, 112, 136, 160, 184, 256, 280, 304, 328, 352, 424, 448, 472, 496, 520, 592, 616, 640, 664, 688]\n",
    "peak_times = [hour_to_time(hour) for hour in peak_start_hours]\n",
    "\n",
    "print(peak_times)\n"
   ]
  },
  {
   "cell_type": "code",
   "execution_count": null,
   "id": "b16ffbc4-1738-4464-b2f7-eaa56ebf3197",
   "metadata": {
    "tags": []
   },
   "outputs": [],
   "source": [
    "print(\"Peak Hours:\", pricing_data['pricing_data.index'].iloc[peaks])"
   ]
  },
  {
   "cell_type": "markdown",
   "id": "16b0c14a-602e-44e9-b40c-85a9e46a5e37",
   "metadata": {},
   "source": [
    "### Preview Carbon Intensity Data\n"
   ]
  },
  {
   "cell_type": "code",
   "execution_count": null,
   "id": "c6c010d1-fbc3-4cc7-928c-d2d436db21dc",
   "metadata": {
    "tags": []
   },
   "outputs": [],
   "source": [
    "filename = schema['buildings'][building_name]['carbon_intensity']\n",
    "filepath = os.path.join(root_directory, filename)\n",
    "carbon_intensity_data = pd.read_csv(filepath)\n",
    "display(carbon_intensity_data.head())\n",
    "display(carbon_intensity_data.describe(include='all').T)"
   ]
  },
  {
   "cell_type": "code",
   "execution_count": null,
   "id": "4a29344b-347d-4ea6-b07b-15a36fb47c27",
   "metadata": {
    "tags": []
   },
   "outputs": [],
   "source": [
    "fig, ax = plt.subplots(1, 1, figsize=(9, 2))\n",
    "x = carbon_intensity_data.index\n",
    "y = carbon_intensity_data['kg_CO2/kWh']\n",
    "ax.plot(x, y)\n",
    "ax.set_xlabel('Time step')\n",
    "ax.set_ylabel('kg_CO2/kWh')\n",
    "plt.show()"
   ]
  },
  {
   "cell_type": "markdown",
   "id": "eebabdc0-7d7a-4489-b244-0917470be975",
   "metadata": {},
   "source": [
    "### Setting your Random Seed\n",
    "\n",
    "set the seed to any integer"
   ]
  },
  {
   "cell_type": "code",
   "execution_count": null,
   "id": "46bd4879-d67a-486b-a6bc-dfca01298e18",
   "metadata": {
    "tags": []
   },
   "outputs": [],
   "source": [
    "RANDOM_SEED = 0\n",
    "print('Random seed:', RANDOM_SEED)"
   ]
  },
  {
   "cell_type": "code",
   "execution_count": null,
   "id": "dc7ffa0e-aea7-4955-9cad-1e3e5f759a30",
   "metadata": {
    "tags": []
   },
   "outputs": [],
   "source": [
    "#schema['central_agent'] = True"
   ]
  },
  {
   "cell_type": "markdown",
   "id": "3ebb8113-a696-4a61-91a2-4e3b37bfc97e",
   "metadata": {},
   "source": [
    "# Initialize a CityLearn Environment\n"
   ]
  },
  {
   "cell_type": "code",
   "execution_count": null,
   "id": "064874d1-a7ab-4a93-a1c2-606f10a392f4",
   "metadata": {
    "tags": []
   },
   "outputs": [],
   "source": [
    "env = CityLearnEnv(schema)"
   ]
  },
  {
   "cell_type": "code",
   "execution_count": null,
   "id": "e01abb47-fe69-4a40-bccf-4f62b870e424",
   "metadata": {
    "tags": []
   },
   "outputs": [],
   "source": [
    "print('Current time step:', env.time_step)\n",
    "print('environment number of time steps:', env.time_steps)\n",
    "print('environment uses central agent:', env.central_agent)\n",
    "print('Common (shared) observations amogst buildings:', env.shared_observations)\n",
    "print('Number of buildings:', len(env.buildings))"
   ]
  },
  {
   "cell_type": "code",
   "execution_count": null,
   "id": "5f594b43-347b-4382-abbe-8ed29fc5aee2",
   "metadata": {
    "tags": []
   },
   "outputs": [],
   "source": [
    "for o, m in zip(observations, self.env_metadata['buildings']):\n",
    "            e = o['net_electricity_consumption']"
   ]
  },
  {
   "cell_type": "code",
   "execution_count": null,
   "id": "4132ab6e-1db9-4f3d-a81d-86009fe54a03",
   "metadata": {
    "tags": []
   },
   "outputs": [],
   "source": [
    "# electrical storage\n",
    "#print('Electrical storage capacity:', {\n",
    "#    b.name: b.power_outage.random_seed for b in env.buildings\n",
    "#})\n",
    "print('Electrical storage capacity:', {\n",
    "    b.name: b.power_outage for b in env.buildings\n",
    "})\n"
   ]
  },
  {
   "cell_type": "code",
   "execution_count": null,
   "id": "fa60612d-4ad3-4f43-b9a9-717e9c89279e",
   "metadata": {
    "tags": []
   },
   "outputs": [],
   "source": [
    "# electrical storage\n",
    "print('Electrical storage capacity:', {\n",
    "    b.name: b.electrical_storage.capacity for b in env.buildings\n",
    "})\n",
    "print('Electrical storage nominal power:', {\n",
    "    b.name: b.electrical_storage.nominal_power for b in env.buildings\n",
    "})\n",
    "print('Electrical storage capacity history:', {\n",
    "    b.name: b.electrical_storage.capacity_history for b in env.buildings\n",
    "})\n",
    "print('Electrical storage loss_coefficient:', {\n",
    "    b.name: b.electrical_storage.loss_coefficient for b in env.buildings\n",
    "})\n",
    "print('Electrical storage initial_soc:', {\n",
    "    b.name: b.electrical_storage.initial_soc for b in env.buildings\n",
    "})\n",
    "print('Electrical storage soc:', {\n",
    "    b.name: b.electrical_storage.soc for b in env.buildings\n",
    "})\n",
    "print('Electrical storage efficiency:', {\n",
    "    b.name: b.electrical_storage.efficiency for b in env.buildings\n",
    "})\n",
    "print('Electrical storage efficiency history:', {\n",
    "    b.name: b.electrical_storage.efficiency_history for b in env.buildings\n",
    "})\n",
    "print('Electrical storage electricity consumption:', {\n",
    "    b.name: b.electrical_storage.electricity_consumption\n",
    "    for b in env.buildings\n",
    "})\n",
    "print('Electrical storage capacity loss coefficient:', {\n",
    "    b.name: b.electrical_storage.loss_coefficient for b in env.buildings\n",
    "})\n",
    "print()\n",
    "# pv\n",
    "print('PV nominal power:', {\n",
    "    b.name: b.pv.nominal_power for b in env.buildings\n",
    "})\n",
    "print()"
   ]
  },
  {
   "cell_type": "code",
   "execution_count": null,
   "id": "22a34fcd-0980-4276-b649-e1259f32bdef",
   "metadata": {
    "tags": []
   },
   "outputs": [],
   "source": [
    "# electrical storage\n",
    "print('Electrical storage capacity:', {\n",
    "    b.name: b.electrical_storage.capacity for b in env.buildings\n",
    "})\n",
    "print('Electrical storage nominal power:', {\n",
    "    b.name: b.electrical_storage.nominal_power for b in env.buildings\n",
    "})\n",
    "print('Electrical storage capacity history:', {\n",
    "    b.name: b.electrical_storage.capacity_history for b in env.buildings\n",
    "})\n",
    "print('Electrical storage loss_coefficient:', {\n",
    "    b.name: b.electrical_storage.loss_coefficient for b in env.buildings\n",
    "})\n",
    "print('Electrical storage initial_soc:', {\n",
    "    b.name: b.electrical_storage.initial_soc for b in env.buildings\n",
    "})\n",
    "print('Electrical storage soc:', {\n",
    "    b.name: b.electrical_storage.soc for b in env.buildings\n",
    "})\n",
    "print('Electrical storage efficiency:', {\n",
    "    b.name: b.electrical_storage.efficiency for b in env.buildings\n",
    "})\n",
    "print('Electrical storage efficiency history:', {\n",
    "    b.name: b.electrical_storage.efficiency_history for b in env.buildings\n",
    "})\n",
    "print('Electrical storage electricity consumption:', {\n",
    "    b.name: b.electrical_storage.electricity_consumption\n",
    "    for b in env.buildings\n",
    "})\n",
    "print('Electrical storage capacity loss coefficient:', {\n",
    "    b.name: b.electrical_storage.loss_coefficient for b in env.buildings\n",
    "})\n",
    "print()\n",
    "# pv\n",
    "print('PV nominal power:', {\n",
    "    b.name: b.pv.nominal_power for b in env.buildings\n",
    "})\n",
    "print()"
   ]
  },
  {
   "cell_type": "code",
   "execution_count": null,
   "id": "87bc6ad5-f48c-4fed-8f32-5bc5f489b0e0",
   "metadata": {
    "tags": []
   },
   "outputs": [],
   "source": [
    "# active observations and actions\n",
    "with pd.option_context(\n",
    "    'display.max_rows', None,\n",
    "    'display.max_columns', None,\n",
    "    'display.width', None\n",
    "):\n",
    "    print('Active observations:')\n",
    "    display(pd.DataFrame([\n",
    "        {**{'building':b.name}, **b.observation_metadata}\n",
    "        for b in env.buildings\n",
    "    ]))\n",
    "    print()\n",
    "    print('Active actions:')\n",
    "    display(pd.DataFrame([\n",
    "        {**{'building':b.name}, **b.action_metadata}\n",
    "        for b in env.buildings\n",
    "    ]))"
   ]
  },
  {
   "cell_type": "markdown",
   "id": "587456eb-93d3-426d-b060-464f74075921",
   "metadata": {},
   "source": [
    "### Model the agent "
   ]
  },
  {
   "cell_type": "code",
   "execution_count": null,
   "id": "63d59aba-0148-42fc-8acc-58356d3da02d",
   "metadata": {
    "tags": []
   },
   "outputs": [],
   "source": [
    "#Baselines"
   ]
  },
  {
   "cell_type": "code",
   "execution_count": null,
   "id": "1a3dcaf1-9034-48fe-8b01-4eeb08331940",
   "metadata": {},
   "outputs": [],
   "source": []
  },
  {
   "cell_type": "code",
   "execution_count": null,
   "id": "5374fb75-2bda-43cc-98bc-1b6bf3b10856",
   "metadata": {
    "tags": []
   },
   "outputs": [],
   "source": [
    "# CityLearn\n",
    "from citylearn.wrappers import StableBaselines3Wrapper\n",
    "# baseline RL algorithms\n",
    "from stable_baselines3 import SAC\n",
    "from stable_baselines3.common.callbacks import BaseCallback"
   ]
  },
  {
   "cell_type": "code",
   "execution_count": null,
   "id": "fed201ee-80ad-4fdb-b2ea-78e6cb3a0c10",
   "metadata": {
    "tags": []
   },
   "outputs": [],
   "source": [
    "sac_env = CityLearnEnv(schema)"
   ]
  },
  {
   "cell_type": "code",
   "execution_count": null,
   "id": "4cdbbd4e-79a2-4e58-ac2d-aec1ac59b2cd",
   "metadata": {
    "tags": []
   },
   "outputs": [],
   "source": [
    "sac_env = StableBaselines3Wrapper(sac_env)"
   ]
  },
  {
   "cell_type": "code",
   "execution_count": null,
   "id": "d9a884c3-022b-49e4-907a-4d496e8d52f4",
   "metadata": {
    "tags": []
   },
   "outputs": [],
   "source": [
    "sac_model = SAC(policy='MlpPolicy', env=sac_env, seed=RANDOM_SEED)"
   ]
  },
  {
   "cell_type": "code",
   "execution_count": null,
   "id": "e8dafc1d-ce85-4ecc-a0a1-ebdb73bcd672",
   "metadata": {
    "tags": []
   },
   "outputs": [],
   "source": [
    "#!pip install shimmy>=0.2.1"
   ]
  },
  {
   "cell_type": "code",
   "execution_count": null,
   "id": "45359c6d-7909-409c-964b-33d42ec16d43",
   "metadata": {
    "tags": []
   },
   "outputs": [],
   "source": [
    "#!pip install setuptools==65.5.0\n"
   ]
  },
  {
   "cell_type": "code",
   "execution_count": null,
   "id": "68b67d09-4088-4b1a-bf92-9500b8d01594",
   "metadata": {
    "tags": []
   },
   "outputs": [],
   "source": [
    "# User interaction\n",
    "#from IPython.display import clear_output\n",
    "#from ipywidgets import Button, FloatSlider, HBox, HTML\n",
    "from ipywidgets import IntProgress, Text, VBox"
   ]
  },
  {
   "cell_type": "code",
   "execution_count": null,
   "id": "2ff0f665-1bd0-4cec-9158-34c05d7502fd",
   "metadata": {
    "tags": []
   },
   "outputs": [],
   "source": [
    "class CustomCallback(BaseCallback):\n",
    "    def __init__(self, env: CityLearnEnv, loader: IntProgress):\n",
    "        r\"\"\"Initialize CustomCallback.\n",
    "\n",
    "        Parameters\n",
    "        ----------\n",
    "        env: Mapping[str, CityLearnEnv]\n",
    "            CityLearn environment instance.\n",
    "        loader: IntProgress\n",
    "            Progress bar.\n",
    "        \"\"\"\n",
    "\n",
    "        super().__init__(verbose=0)\n",
    "        self.loader = loader\n",
    "        self.env = env\n",
    "        self.reward_history = [0]\n",
    "\n",
    "    def _on_step(self) -> bool:\n",
    "        r\"\"\"Called each time the env step function is called.\"\"\"\n",
    "\n",
    "        if self.env.time_step == 0:\n",
    "            self.reward_history.append(0)\n",
    "\n",
    "        else:\n",
    "            self.reward_history[-1] += sum(self.env.rewards[-1])\n",
    "\n",
    "        self.loader.value += 1\n",
    "\n",
    "        return True"
   ]
  },
  {
   "cell_type": "code",
   "execution_count": null,
   "id": "72bc9b72-c8fc-421b-9c95-6dc4a319fe29",
   "metadata": {
    "tags": []
   },
   "outputs": [],
   "source": [
    "from citylearn.reward_function import RewardFunction\n",
    "# type hinting\n",
    "from typing import List, Mapping, Tuple\n",
    "#CityLearn\n",
    "from citylearn.wrappers import NormalizedObservationWrapper\n",
    "# Date and time\n",
    "from datetime import datetime"
   ]
  },
  {
   "cell_type": "code",
   "execution_count": null,
   "id": "70a9adc4-6c38-46c1-8bae-0956dbad6522",
   "metadata": {
    "tags": []
   },
   "outputs": [],
   "source": [
    "class CustomReward(RewardFunction):\n",
    "    def __init__(self, env: CityLearnEnv):\n",
    "        r\"\"\"Initialize CustomReward.\n",
    "\n",
    "        Parameters\n",
    "        ----------\n",
    "        env: Mapping[str, CityLearnEnv]\n",
    "            CityLearn environment instance.\n",
    "        \"\"\"\n",
    "\n",
    "        super().__init__(env)\n",
    "\n",
    "    def calculate(self) -> List[float]:\n",
    "        r\"\"\"Returns reward for most recent action.\n",
    "\n",
    "        The reward is designed to minimize electricity cost.\n",
    "        It is calculated for each building, i and summed to provide the agent\n",
    "        with a reward that is representative of all n buildings.\n",
    "        It encourages net-zero energy use by penalizing grid load satisfaction\n",
    "        when there is energy in the battery as well as penalizing\n",
    "        net export when the battery is not fully charged through the penalty\n",
    "        term. There is neither penalty nor reward when the battery\n",
    "        is fully charged during net export to the grid. Whereas, when the\n",
    "        battery is charged to capacity and there is net import from the\n",
    "        grid the penalty is maximized.\n",
    "\n",
    "        Returns\n",
    "        -------\n",
    "        reward: List[float]\n",
    "            Reward for transition to current timestep.\n",
    "        \"\"\"\n",
    "\n",
    "        reward_list = []\n",
    "\n",
    "        for b in self.env.buildings:\n",
    "            cost = b.net_electricity_consumption_cost[-1]\n",
    "            battery_capacity = b.electrical_storage.capacity_history[0]\n",
    "            battery_soc = b.electrical_storage.soc[-1]/battery_capacity\n",
    "            penalty = -(1.0 + np.sign(cost)*battery_soc)\n",
    "            reward = penalty*abs(cost)\n",
    "            reward_list.append(reward)\n",
    "\n",
    "        reward = [sum(reward_list)]\n",
    "\n",
    "        return reward"
   ]
  },
  {
   "cell_type": "code",
   "execution_count": null,
   "id": "7ed764a0-b09b-4adc-a032-1abbef6ebc87",
   "metadata": {
    "tags": []
   },
   "outputs": [],
   "source": [
    "def get_loader(**kwargs):\n",
    "    \"\"\"Returns a progress bar\"\"\"\n",
    "\n",
    "    kwargs = {\n",
    "        'value': 0,\n",
    "        'min': 0,\n",
    "        'max': 10,\n",
    "        'description': 'Simulating:',\n",
    "        'bar_style': '',\n",
    "        'style': {'bar_color': 'maroon'},\n",
    "        'orientation': 'horizontal',\n",
    "        **kwargs\n",
    "    }\n",
    "    return IntProgress(**kwargs)"
   ]
  },
  {
   "cell_type": "code",
   "execution_count": null,
   "id": "63200f6b-a0a3-49dc-ad31-e39acd287cce",
   "metadata": {
    "tags": []
   },
   "outputs": [],
   "source": [
    "RANDOM_SEED = 10\n"
   ]
  },
  {
   "cell_type": "code",
   "execution_count": null,
   "id": "bf8b2f01-86f9-4d08-8aac-a2a458fbdcfa",
   "metadata": {
    "tags": []
   },
   "outputs": [],
   "source": [
    "# --------------- SET **YOUR** NUMBER OF TRAINING EPISODES ---------------\n",
    "sac_episodes = 1\n",
    "sac_total_timesteps=sac_episodes*(env.time_steps - 1)"
   ]
  },
  {
   "cell_type": "code",
   "execution_count": null,
   "id": "4ae0925b-3ea9-4e4a-a07b-54460406f327",
   "metadata": {},
   "outputs": [],
   "source": []
  },
  {
   "cell_type": "code",
   "execution_count": null,
   "id": "a70bf11d-9d96-431d-8ce5-8a788d6e1423",
   "metadata": {},
   "outputs": [],
   "source": []
  },
  {
   "cell_type": "code",
   "execution_count": null,
   "id": "5400bba8-5e18-4e76-899c-65ab15762a60",
   "metadata": {
    "tags": []
   },
   "outputs": [],
   "source": [
    "# -------------------- CUSTOMIZE **YOUR** ENVIRONMENT --------------------\n",
    "# Include other observations if needed.\n",
    "# See https://www.citylearn.net/overview/observations.html\n",
    "# for table of observations that you can include\n",
    "# NOTE: More active observations could mean longer trainer time.\n",
    "your_active_observations = [\n",
    "    'hour',\n",
    "    'day_type'\n",
    "]\n",
    "\n",
    "# ------------------ SET **YOUR** AGENT HYPERPARAMETERS ------------------\n",
    "# try out different hyperparameter value combinations to see\n",
    "# which one provides you with the best KPIs. See\n",
    "# https://github.com/yosider/ml-agents-1/blob/master/docs/Training-SAC.md#training-with-soft-actor-critic\n",
    "# for a guide on how to select hyperparameter values.\n",
    "your_agent_kwargs = {\n",
    "    'learning_rate': 0.0003,\n",
    "    'buffer_size': 1000000,\n",
    "    'learning_starts': 100,\n",
    "    'batch_size': 256,\n",
    "    'tau': 0.005,\n",
    "    'gamma': 0.99,\n",
    "    'train_freq': 1,\n",
    "}\n",
    "\n",
    "# --------------- SET **YOUR** NUMBER OF TRAINING EPISODES ---------------\n",
    "your_episodes = sac_episodes\n",
    "\n",
    "# --------------- DEFINE **YOUR** CUSTOM REWARD FUNCTION -----------------\n",
    "class YourCustomReward(CustomReward):\n",
    "    def __init__(self, env: CityLearnEnv):\n",
    "        r\"\"\"Initialize CustomReward.\n",
    "\n",
    "        Parameters\n",
    "        ----------\n",
    "        env: Mapping[str, CityLearnEnv]\n",
    "            CityLearn environment instance.\n",
    "        \"\"\"\n",
    "\n",
    "        super().__init__(env)\n",
    "\n",
    "    def calculate(self) -> List[float]:\n",
    "        r\"\"\"Returns reward for most recent action.\n",
    "\n",
    "        <Provide a description for your custom reward>.\n",
    "\n",
    "        Parameters\n",
    "        ----------\n",
    "        reward: List[float]\n",
    "            Reward for transition to current timestep.\n",
    "        \"\"\"\n",
    "\n",
    "        # comment the next line of code and define your custom reward otherwise,\n",
    "        # leave as is to use the previously defined custom reward function.\n",
    "        reward = super().calculate()\n",
    "\n",
    "        return reward"
   ]
  },
  {
   "cell_type": "code",
   "execution_count": null,
   "id": "8b5763df-33fc-4f75-8988-ab7b8b0e5572",
   "metadata": {
    "tags": []
   },
   "outputs": [],
   "source": [
    "\n",
    "def update_power_outage_random_seed(env: CityLearnEnv, random_seed: int) -> CityLearnEnv:\n",
    "    \"\"\"Update random seed used in generating power outage signals.\n",
    "    \n",
    "    Used to optionally update random seed for stochastic power outage model in all buildings.\n",
    "    Random seeds should be updated before calling :py:meth:`citylearn.citylearn.CityLearnEnv.reset`.\n",
    "    \"\"\"\n",
    "\n",
    "    for b in env.buildings:\n",
    "        b.stochastic_power_outage_model.random_seed = random_seed\n",
    "\n",
    "    return env"
   ]
  },
  {
   "cell_type": "code",
   "execution_count": null,
   "id": "6d32992a-8971-4499-802d-2cb3c9c80346",
   "metadata": {
    "tags": []
   },
   "outputs": [],
   "source": [
    "def train_your_custom_sac(\n",
    "    agent_kwargs: dict, episodes: int, reward_function: RewardFunction,\n",
    "    building_count: int, day_count: int, active_observations: List[str],\n",
    "    random_seed: int, reference_envs: Mapping[str, CityLearnEnv] = None,\n",
    "    show_figures: bool = None\n",
    ") -> dict:\n",
    "    \"\"\"Trains a custom soft-actor critic (SAC) agent on a custom environment.\n",
    "\n",
    "    Trains an SAC agent using a custom environment and agent hyperparamter\n",
    "    setup and plots the key performance indicators (KPIs), actions and\n",
    "    rewards from training and evaluating the agent.\n",
    "\n",
    "    Parameters\n",
    "    ----------\n",
    "    agent_kwargs: dict\n",
    "        Defines the hyperparameters used to initialize the SAC agent.\n",
    "    episodes: int\n",
    "        Number of episodes to train the agent for.\n",
    "    reward_function: RewardFunction\n",
    "        A base or custom reward function class.\n",
    "    building_count: int\n",
    "        Number of buildings to set as active in schema.\n",
    "    day_count: int\n",
    "        Number of simulation days.\n",
    "    active_observations: List[str]\n",
    "        Names of observations to set active to be passed to control agent.\n",
    "    random_seed: int\n",
    "        Seed for pseudo-random number generator.\n",
    "    reference_envs: Mapping[str, CityLearnEnv], default: None\n",
    "        Mapping of user-defined control agent names to environments\n",
    "        the agents have been used to control.\n",
    "    show_figures: bool, default: False\n",
    "        Indicate if summary figures should be plotted at the end of\n",
    "        evaluation.\n",
    "\n",
    "    Returns\n",
    "    -------\n",
    "    result: dict\n",
    "        Results from training the agent as well as some input variables\n",
    "        for reference including the following value keys:\n",
    "\n",
    "            * random_seed: int\n",
    "            * env: CityLearnEnv\n",
    "            * model: SAC\n",
    "            * actions: List[float]\n",
    "            * rewards: List[float]\n",
    "            * agent_kwargs: dict\n",
    "            * episodes: int\n",
    "            * reward_function: RewardFunction\n",
    "            * buildings: List[str]\n",
    "            * simulation_start_time_step: int\n",
    "            * simulation_end_time_step: int\n",
    "            * active_observations: List[str]\n",
    "            * train_start_timestamp: datetime\n",
    "            * train_end_timestamp: datetime\n",
    "    \"\"\"\n",
    "\n",
    "    # get schema\n",
    "    #schema = DataSet.get_schema('citylearn_challenge_2022_phase_all')\n",
    "    schema_filepath = '/home/amalnamm/work/Neurips CityLearn/GIT/citylearn-2023-starter-kit/data/schemas/warm_up/schema.json'\n",
    "    schema = read_json(schema_filepath)\n",
    "    schema['root_directory'] = '/home/amalnamm/work/Neurips CityLearn/GIT/citylearn-2023-starter-kit/data/schemas/warm_up'\n",
    "    #env = CityLearnEnv(schema)\n",
    "    # select buildings\n",
    "    \n",
    "    \n",
    "    # select days\n",
    "    \n",
    "    # set active observations\n",
    "    \n",
    "\n",
    "    # initialize environment\n",
    "    env = CityLearnEnv(schema, central_agent=True,seed=0)\n",
    "\n",
    "    # set reward function\n",
    "    env.reward_function = reward_function(env=env)\n",
    "\n",
    "    # wrap environment\n",
    "    env = NormalizedObservationWrapper(env)\n",
    "    env = StableBaselines3Wrapper(env)\n",
    "\n",
    "    # initialize agent\n",
    "    model = SAC('MlpPolicy', env, **agent_kwargs, seed=random_seed)\n",
    "\n",
    "    # initialize loader\n",
    "    total_timesteps = episodes*(env.time_steps - 1)\n",
    "    print('Number of episodes to train:', episodes)\n",
    "    loader = get_loader(max=total_timesteps)\n",
    "    display(loader)\n",
    "\n",
    "    # initialize callback\n",
    "    callback = CustomCallback(env=env, loader=loader)\n",
    "\n",
    "    # train agent\n",
    "    train_start_timestamp = datetime.utcnow()\n",
    "    model = model.learn(total_timesteps=total_timesteps, callback=callback)\n",
    "    train_end_timestamp = datetime.utcnow()\n",
    "\n",
    "    # evaluate agent\n",
    "    observations = env.reset()\n",
    "    actions_list = []\n",
    "\n",
    "    while not env.done:\n",
    "        actions, _ = model.predict(observations, deterministic=True)\n",
    "        observations, _, _, _ = env.step(actions)\n",
    "        actions_list.append(actions)\n",
    "\n",
    "    # get rewards\n",
    "    rewards = callback.reward_history[:episodes]\n",
    "\n",
    "    # plot summary and compare with other control results\n",
    "    if show_figures is not None and show_figures:\n",
    "        env_id = 'Your-SAC'\n",
    "\n",
    "        if reference_envs is None:\n",
    "            reference_envs = {env_id: env}\n",
    "        else:\n",
    "            reference_envs = {env_id: env, **reference_envs}\n",
    "\n",
    "        plot_simulation_summary(reference_envs)\n",
    "\n",
    "        # plot actions\n",
    "        plot_actions(actions_list, f'{env_id} Actions')\n",
    "\n",
    "        # plot rewards\n",
    "        _, ax = plt.subplots(1, 1, figsize=(5, 2))\n",
    "        ax = plot_rewards(ax, rewards, f'{env_id} Rewards')\n",
    "        plt.tight_layout()\n",
    "        plt.show()\n",
    "\n",
    "    else:\n",
    "        pass\n",
    "\n",
    "    return {\n",
    "        'random_seed': random_seed,\n",
    "        'env': env,\n",
    "        'model': model,\n",
    "        'actions': actions_list,\n",
    "        'rewards': rewards,\n",
    "        'agent_kwargs': agent_kwargs,\n",
    "        'episodes': episodes,\n",
    "        'reward_function': reward_function,\n",
    "        'buildings': buildings,\n",
    "        'simulation_start_time_step': simulation_start_time_step,\n",
    "        'simulation_end_time_step': simulation_end_time_step,\n",
    "        'active_observations': active_observations,\n",
    "        'train_start_timestamp': train_start_timestamp,\n",
    "        'train_end_timestamp': train_end_timestamp,\n",
    "    }"
   ]
  },
  {
   "cell_type": "code",
   "execution_count": null,
   "id": "db1cd555-87f7-4b5c-94dc-a1caaac054c6",
   "metadata": {
    "tags": []
   },
   "outputs": [],
   "source": [
    "your_results = train_your_custom_sac(\n",
    "    agent_kwargs=your_agent_kwargs,\n",
    "    episodes=your_episodes,\n",
    "    reward_function=YourCustomReward,\n",
    "    building_count=3,\n",
    "    day_count=7,\n",
    "    active_observations=your_active_observations,\n",
    "    random_seed=RANDOM_SEED,\n",
    "    reference_envs={\n",
    "        #'RBC': rbc_env,\n",
    "        # 'TQL': tql_env,\n",
    "        #'SAC-1': sac_env,\n",
    "        #'SAC-2': sacr_env\n",
    "    },\n",
    "    show_figures=True,\n",
    ")"
   ]
  },
  {
   "cell_type": "code",
   "execution_count": null,
   "id": "7297bedd-1c67-4b2f-87c9-ee7c4679f37d",
   "metadata": {},
   "outputs": [],
   "source": []
  }
 ],
 "metadata": {
  "kernelspec": {
   "display_name": "Python 3 (ipykernel)",
   "language": "python",
   "name": "python3"
  },
  "language_info": {
   "codemirror_mode": {
    "name": "ipython",
    "version": 3
   },
   "file_extension": ".py",
   "mimetype": "text/x-python",
   "name": "python",
   "nbconvert_exporter": "python",
   "pygments_lexer": "ipython3",
   "version": "3.10.10"
  }
 },
 "nbformat": 4,
 "nbformat_minor": 5
}
