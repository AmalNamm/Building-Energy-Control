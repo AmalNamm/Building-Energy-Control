{
 "cells": [
  {
   "cell_type": "code",
   "execution_count": 3,
   "id": "7ac7cf86-79a5-46db-b085-f074dba55760",
   "metadata": {
    "tags": []
   },
   "outputs": [],
   "source": [
    "from citylearn.agents.sac import SAC as RLAgent\n",
    "from citylearn.citylearn import CityLearnEnv, EvaluationCondition\n",
    "import os\n",
    "from citylearn.utilities import read_json"
   ]
  },
  {
   "cell_type": "code",
   "execution_count": 4,
   "id": "25c25bb4-bad4-4138-b1df-faf7a6bba6a4",
   "metadata": {
    "tags": []
   },
   "outputs": [],
   "source": [
    "schema_filepath = '/home/amalnamm/work/Neurips CityLearn/GIT/citylearn-2023-starter-kit/data/schemas/warm_up/schema.json'\n",
    "schema = read_json(schema_filepath)\n",
    "schema['root_directory'] = '/home/amalnamm/work/Neurips CityLearn/GIT/citylearn-2023-starter-kit/data/schemas/warm_up'\n",
    "env = CityLearnEnv(schema)"
   ]
  },
  {
   "cell_type": "code",
   "execution_count": 5,
   "id": "22972de1-a8a2-4c03-83c8-887bf8a54f27",
   "metadata": {
    "tags": []
   },
   "outputs": [],
   "source": [
    "#env = CityLearnEnv(schema, central_agent=False)\n",
    "model = RLAgent(env)"
   ]
  },
  {
   "cell_type": "code",
   "execution_count": 8,
   "id": "995550eb-1f5a-4df9-b974-8f45d1f0f2b5",
   "metadata": {
    "tags": []
   },
   "outputs": [],
   "source": [
    "model.learn(episodes=2, deterministic_finish=True)"
   ]
  },
  {
   "cell_type": "code",
   "execution_count": 9,
   "id": "eebea48c-b142-457c-aa1e-a9f547bc0210",
   "metadata": {
    "tags": []
   },
   "outputs": [],
   "source": [
    "metrics_df = env.evaluate_citylearn_challenge()"
   ]
  },
  {
   "cell_type": "code",
   "execution_count": 10,
   "id": "f9b95162-0095-4a82-9fae-2c2ffeeb9edb",
   "metadata": {
    "tags": []
   },
   "outputs": [
    {
     "data": {
      "text/plain": [
       "{'carbon_emissions_total': {'display_name': 'Carbon emissions',\n",
       "  'weight': 0.1,\n",
       "  'value': 0.9516948510682978},\n",
       " 'discomfort_proportion': {'display_name': 'Unmet hours',\n",
       "  'weight': 0.3,\n",
       "  'value': 0.7042784847097007},\n",
       " 'ramping_average': {'display_name': 'Ramping',\n",
       "  'weight': 0.075,\n",
       "  'value': 0.8820170204710601},\n",
       " 'daily_one_minus_load_factor_average': {'display_name': 'Load factor',\n",
       "  'weight': 0.075,\n",
       "  'value': 0.9432779693167079},\n",
       " 'daily_peak_average': {'display_name': 'Daily peak',\n",
       "  'weight': 0.075,\n",
       "  'value': 0.9286474542897546},\n",
       " 'annual_peak_average': {'display_name': 'All-time peak',\n",
       "  'weight': 0.075,\n",
       "  'value': 0.9484990488028759},\n",
       " 'one_minus_thermal_resilience_proportion': {'display_name': 'Thermal resilience',\n",
       "  'weight': 0.15,\n",
       "  'value': 0.6380952380952382},\n",
       " 'power_outage_normalized_unserved_energy_total': {'display_name': 'Unserved energy',\n",
       "  'weight': 0.15,\n",
       "  'value': 0.624421237790722},\n",
       " 'average_score': {'display_name': 'Score',\n",
       "  'weight': None,\n",
       "  'value': 0.7735137}}"
      ]
     },
     "execution_count": 10,
     "metadata": {},
     "output_type": "execute_result"
    }
   ],
   "source": [
    "metrics_df"
   ]
  },
  {
   "cell_type": "code",
   "execution_count": 11,
   "id": "f30b8c44-e433-47fa-8c40-9e7d362b407a",
   "metadata": {
    "tags": []
   },
   "outputs": [],
   "source": [
    "class WrapperEnv:\n",
    "    \"\"\"\n",
    "    Env to wrap provide Citylearn Env data without providing full env\n",
    "    Preventing attribute access outside of the available functions\n",
    "    \"\"\"\n",
    "    def __init__(self, env_data):\n",
    "        self.observation_names = env_data['observation_names']\n",
    "        self.action_names = env_data['action_names']\n",
    "        self.observation_space = env_data['observation_space']\n",
    "        self.action_space = env_data['action_space']\n",
    "        self.time_steps = env_data['time_steps']\n",
    "        self.seconds_per_time_step = env_data['seconds_per_time_step']\n",
    "        self.random_seed = env_data['random_seed']\n",
    "        self.buildings_metadata = env_data['buildings_metadata']\n",
    "        self.episode_tracker = env_data['episode_tracker']\n",
    "    \n",
    "    def get_metadata(self):\n",
    "        return {'buildings': self.buildings_metadata}"
   ]
  },
  {
   "cell_type": "code",
   "execution_count": 17,
   "id": "a2a99818-3ac4-4fe9-b8cf-dfe4805037e1",
   "metadata": {
    "tags": []
   },
   "outputs": [],
   "source": [
    "from rewards.user_reward import SubmissionReward\n"
   ]
  },
  {
   "cell_type": "code",
   "execution_count": 20,
   "id": "9e1b7c26-2c5b-494e-bc68-00e8c26e51f5",
   "metadata": {
    "tags": []
   },
   "outputs": [],
   "source": [
    "def create_citylearn_env(schema, reward_function):\n",
    "    env = CityLearnEnv(schema, reward_function=reward_function,central_agent=False)\n",
    "\n",
    "    env_data = dict(\n",
    "        observation_names = env.observation_names,\n",
    "        action_names = env.action_names,\n",
    "        observation_space = env.observation_space,\n",
    "        action_space = env.action_space,\n",
    "        time_steps = env.time_steps,\n",
    "        random_seed = 1234,\n",
    "        episode_tracker = None,\n",
    "        seconds_per_time_step = None,\n",
    "        buildings_metadata = env.get_metadata()['buildings']\n",
    "    )\n",
    "\n",
    "    wrapper_env = WrapperEnv(env_data)\n",
    "    return env, wrapper_env"
   ]
  },
  {
   "cell_type": "code",
   "execution_count": 21,
   "id": "e53304d7-b252-439e-9b9b-5393830a1495",
   "metadata": {
    "tags": []
   },
   "outputs": [],
   "source": [
    "env, wrapper_env = create_citylearn_env(schema, SubmissionReward)"
   ]
  },
  {
   "cell_type": "code",
   "execution_count": 25,
   "id": "ac15dbd1-16fe-4206-9575-eba6793f6c63",
   "metadata": {
    "tags": []
   },
   "outputs": [],
   "source": [
    "agent = RLAgent(env)\n"
   ]
  },
  {
   "cell_type": "code",
   "execution_count": 26,
   "id": "bbe46d96-3eb5-411d-8cf4-e6a6341389ba",
   "metadata": {
    "tags": []
   },
   "outputs": [],
   "source": [
    "agent.learn(episodes=2, deterministic_finish=True)"
   ]
  },
  {
   "cell_type": "code",
   "execution_count": 27,
   "id": "b5a1a841-2254-4139-bb28-ccb46a89118b",
   "metadata": {
    "tags": []
   },
   "outputs": [],
   "source": [
    "metrics_df = env.evaluate_citylearn_challenge()\n"
   ]
  },
  {
   "cell_type": "code",
   "execution_count": 28,
   "id": "039b6e94-83a8-4e3e-82c6-27a0ef9697eb",
   "metadata": {
    "tags": []
   },
   "outputs": [
    {
     "data": {
      "text/plain": [
       "{'carbon_emissions_total': {'display_name': 'Carbon emissions',\n",
       "  'weight': 0.1,\n",
       "  'value': 0.9524949372122796},\n",
       " 'discomfort_proportion': {'display_name': 'Unmet hours',\n",
       "  'weight': 0.3,\n",
       "  'value': 0.7072975069995903},\n",
       " 'ramping_average': {'display_name': 'Ramping',\n",
       "  'weight': 0.075,\n",
       "  'value': 0.8822691302350596},\n",
       " 'daily_one_minus_load_factor_average': {'display_name': 'Load factor',\n",
       "  'weight': 0.075,\n",
       "  'value': 0.9432832179231083},\n",
       " 'daily_peak_average': {'display_name': 'Daily peak',\n",
       "  'weight': 0.075,\n",
       "  'value': 0.9289293527981298},\n",
       " 'annual_peak_average': {'display_name': 'All-time peak',\n",
       "  'weight': 0.075,\n",
       "  'value': 0.9481310397646742},\n",
       " 'one_minus_thermal_resilience_proportion': {'display_name': 'Thermal resilience',\n",
       "  'weight': 0.15,\n",
       "  'value': 0.6380952380952382},\n",
       " 'power_outage_normalized_unserved_energy_total': {'display_name': 'Unserved energy',\n",
       "  'weight': 0.15,\n",
       "  'value': 0.624879498221464},\n",
       " 'average_score': {'display_name': 'Score',\n",
       "  'weight': None,\n",
       "  'value': 0.77458096}}"
      ]
     },
     "execution_count": 28,
     "metadata": {},
     "output_type": "execute_result"
    }
   ],
   "source": [
    "metrics_df"
   ]
  },
  {
   "cell_type": "code",
   "execution_count": 32,
   "id": "bd291aad-ce26-46fe-879f-88d2f0a9f11a",
   "metadata": {
    "tags": []
   },
   "outputs": [],
   "source": [
    "observations = env.reset()"
   ]
  },
  {
   "cell_type": "code",
   "execution_count": 33,
   "id": "0490aab9-3876-4232-825c-998b80ce7fb9",
   "metadata": {
    "collapsed": true,
    "jupyter": {
     "outputs_hidden": true
    },
    "tags": []
   },
   "outputs": [
    {
     "data": {
      "text/plain": [
       "[[5,\n",
       "  1,\n",
       "  24.66,\n",
       "  24.910639,\n",
       "  38.41596,\n",
       "  27.611464,\n",
       "  0.0,\n",
       "  54.625927,\n",
       "  116.84289,\n",
       "  0.0,\n",
       "  0.0,\n",
       "  143.32434,\n",
       "  1020.7561,\n",
       "  0.0,\n",
       "  0.40248835,\n",
       "  23.098652,\n",
       "  0.35683933,\n",
       "  0.0,\n",
       "  0.0,\n",
       "  0.2,\n",
       "  0.67788136,\n",
       "  0.02893,\n",
       "  0.02893,\n",
       "  0.02915,\n",
       "  0.02893,\n",
       "  1.1192156,\n",
       "  0.055682074,\n",
       "  3.0,\n",
       "  23.222221,\n",
       "  0],\n",
       " [5,\n",
       "  1,\n",
       "  24.66,\n",
       "  24.910639,\n",
       "  38.41596,\n",
       "  27.611464,\n",
       "  0.0,\n",
       "  54.625927,\n",
       "  116.84289,\n",
       "  0.0,\n",
       "  0.0,\n",
       "  143.32434,\n",
       "  1020.7561,\n",
       "  0.0,\n",
       "  0.40248835,\n",
       "  24.278513,\n",
       "  0.18733284,\n",
       "  0.0,\n",
       "  0.0,\n",
       "  0.2,\n",
       "  0.18733284,\n",
       "  0.02893,\n",
       "  0.02893,\n",
       "  0.02915,\n",
       "  0.02893,\n",
       "  0.0,\n",
       "  0.0,\n",
       "  1.0,\n",
       "  24.444445,\n",
       "  0],\n",
       " [5,\n",
       "  1,\n",
       "  24.66,\n",
       "  24.910639,\n",
       "  38.41596,\n",
       "  27.611464,\n",
       "  0.0,\n",
       "  54.625927,\n",
       "  116.84289,\n",
       "  0.0,\n",
       "  0.0,\n",
       "  143.32434,\n",
       "  1020.7561,\n",
       "  0.0,\n",
       "  0.40248835,\n",
       "  24.431562,\n",
       "  0.4220805,\n",
       "  0.0,\n",
       "  0.0,\n",
       "  0.2,\n",
       "  0.5631514,\n",
       "  0.02893,\n",
       "  0.02893,\n",
       "  0.02915,\n",
       "  0.02893,\n",
       "  0.5579055,\n",
       "  0.0,\n",
       "  2.0,\n",
       "  24.444445,\n",
       "  0]]"
      ]
     },
     "execution_count": 33,
     "metadata": {},
     "output_type": "execute_result"
    }
   ],
   "source": [
    "observations"
   ]
  },
  {
   "cell_type": "code",
   "execution_count": 34,
   "id": "53644887-12f5-4ff1-8725-a42ccb5ec703",
   "metadata": {
    "tags": []
   },
   "outputs": [
    {
     "data": {
      "text/plain": [
       "[array([-0.2366574 , -0.1068032 ,  0.04216267], dtype=float32),\n",
       " array([-0.3589483 ,  0.26893902,  0.36544722], dtype=float32),\n",
       " array([ 0.36875746, -0.1719276 ,  0.03730884], dtype=float32)]"
      ]
     },
     "execution_count": 34,
     "metadata": {},
     "output_type": "execute_result"
    }
   ],
   "source": [
    "agent.predict(observations)"
   ]
  },
  {
   "cell_type": "code",
   "execution_count": 35,
   "id": "74181513-1efc-45b6-a61e-4a24cd5d792b",
   "metadata": {
    "collapsed": true,
    "jupyter": {
     "outputs_hidden": true
    },
    "tags": []
   },
   "outputs": [
    {
     "ename": "ZeroDivisionError",
     "evalue": "float division by zero",
     "output_type": "error",
     "traceback": [
      "\u001b[0;31m---------------------------------------------------------------------------\u001b[0m",
      "\u001b[0;31mZeroDivisionError\u001b[0m                         Traceback (most recent call last)",
      "Cell \u001b[0;32mIn[35], line 2\u001b[0m\n\u001b[1;32m      1\u001b[0m \u001b[38;5;66;03m# print cost functions at the end of episode\u001b[39;00m\n\u001b[0;32m----> 2\u001b[0m kpis \u001b[38;5;241m=\u001b[39m \u001b[43magent\u001b[49m\u001b[38;5;241;43m.\u001b[39;49m\u001b[43menv\u001b[49m\u001b[38;5;241;43m.\u001b[39;49m\u001b[43mevaluate\u001b[49m\u001b[43m(\u001b[49m\u001b[43mbaseline_condition\u001b[49m\u001b[38;5;241;43m=\u001b[39;49m\u001b[43mEvaluationCondition\u001b[49m\u001b[38;5;241;43m.\u001b[39;49m\u001b[43mWITHOUT_STORAGE_BUT_WITH_PARTIAL_LOAD_AND_PV\u001b[49m\u001b[43m)\u001b[49m\n\u001b[1;32m      3\u001b[0m kpis \u001b[38;5;241m=\u001b[39m kpis\u001b[38;5;241m.\u001b[39mpivot(index\u001b[38;5;241m=\u001b[39m\u001b[38;5;124m'\u001b[39m\u001b[38;5;124mcost_function\u001b[39m\u001b[38;5;124m'\u001b[39m, columns\u001b[38;5;241m=\u001b[39m\u001b[38;5;124m'\u001b[39m\u001b[38;5;124mname\u001b[39m\u001b[38;5;124m'\u001b[39m, values\u001b[38;5;241m=\u001b[39m\u001b[38;5;124m'\u001b[39m\u001b[38;5;124mvalue\u001b[39m\u001b[38;5;124m'\u001b[39m)\n\u001b[1;32m      4\u001b[0m kpis \u001b[38;5;241m=\u001b[39m kpis\u001b[38;5;241m.\u001b[39mdropna(how\u001b[38;5;241m=\u001b[39m\u001b[38;5;124m'\u001b[39m\u001b[38;5;124mall\u001b[39m\u001b[38;5;124m'\u001b[39m)\n",
      "File \u001b[0;32m/opt/conda/lib/python3.10/site-packages/citylearn/citylearn.py:1007\u001b[0m, in \u001b[0;36mCityLearnEnv.evaluate\u001b[0;34m(self, control_condition, baseline_condition, comfort_band)\u001b[0m\n\u001b[1;32m    998\u001b[0m control_condition \u001b[38;5;241m=\u001b[39m EvaluationCondition\u001b[38;5;241m.\u001b[39mWITH_STORAGE_AND_PARTIAL_LOAD_AND_PV \u001b[38;5;28;01mif\u001b[39;00m control_condition \u001b[38;5;129;01mis\u001b[39;00m \u001b[38;5;28;01mNone\u001b[39;00m \u001b[38;5;28;01melse\u001b[39;00m control_condition\n\u001b[1;32m    999\u001b[0m baseline_condition \u001b[38;5;241m=\u001b[39m EvaluationCondition\u001b[38;5;241m.\u001b[39mWITHOUT_STORAGE_AND_PARTIAL_LOAD_BUT_WITH_PV \u001b[38;5;28;01mif\u001b[39;00m baseline_condition \u001b[38;5;129;01mis\u001b[39;00m \u001b[38;5;28;01mNone\u001b[39;00m \u001b[38;5;28;01melse\u001b[39;00m baseline_condition\n\u001b[1;32m   1001\u001b[0m district_level \u001b[38;5;241m=\u001b[39m pd\u001b[38;5;241m.\u001b[39mDataFrame([{\n\u001b[1;32m   1002\u001b[0m     \u001b[38;5;124m'\u001b[39m\u001b[38;5;124mcost_function\u001b[39m\u001b[38;5;124m'\u001b[39m: \u001b[38;5;124m'\u001b[39m\u001b[38;5;124mramping_average\u001b[39m\u001b[38;5;124m'\u001b[39m,\n\u001b[1;32m   1003\u001b[0m     \u001b[38;5;124m'\u001b[39m\u001b[38;5;124mvalue\u001b[39m\u001b[38;5;124m'\u001b[39m: CostFunction\u001b[38;5;241m.\u001b[39mramping(get_net_electricity_consumption(\u001b[38;5;28mself\u001b[39m, control_condition))[\u001b[38;5;241m-\u001b[39m\u001b[38;5;241m1\u001b[39m]\u001b[38;5;241m/\u001b[39m\\\n\u001b[1;32m   1004\u001b[0m         CostFunction\u001b[38;5;241m.\u001b[39mramping(get_net_electricity_consumption(\u001b[38;5;28mself\u001b[39m, baseline_condition))[\u001b[38;5;241m-\u001b[39m\u001b[38;5;241m1\u001b[39m],\n\u001b[1;32m   1005\u001b[0m }, {\n\u001b[1;32m   1006\u001b[0m     \u001b[38;5;124m'\u001b[39m\u001b[38;5;124mcost_function\u001b[39m\u001b[38;5;124m'\u001b[39m: \u001b[38;5;124m'\u001b[39m\u001b[38;5;124mdaily_one_minus_load_factor_average\u001b[39m\u001b[38;5;124m'\u001b[39m,\n\u001b[0;32m-> 1007\u001b[0m     \u001b[38;5;124m'\u001b[39m\u001b[38;5;124mvalue\u001b[39m\u001b[38;5;124m'\u001b[39m: \u001b[43mCostFunction\u001b[49m\u001b[38;5;241;43m.\u001b[39;49m\u001b[43mone_minus_load_factor\u001b[49m\u001b[43m(\u001b[49m\u001b[43mget_net_electricity_consumption\u001b[49m\u001b[43m(\u001b[49m\u001b[38;5;28;43mself\u001b[39;49m\u001b[43m,\u001b[49m\u001b[43m \u001b[49m\u001b[43mcontrol_condition\u001b[49m\u001b[43m)\u001b[49m\u001b[43m,\u001b[49m\u001b[43m \u001b[49m\u001b[43mwindow\u001b[49m\u001b[38;5;241;43m=\u001b[39;49m\u001b[38;5;241;43m24\u001b[39;49m\u001b[43m)\u001b[49m\u001b[43m[\u001b[49m\u001b[38;5;241;43m-\u001b[39;49m\u001b[38;5;241;43m1\u001b[39;49m\u001b[43m]\u001b[49m\u001b[38;5;241;43m/\u001b[39;49m\u001b[43m\\\u001b[49m\n\u001b[1;32m   1008\u001b[0m \u001b[43m        \u001b[49m\u001b[43mCostFunction\u001b[49m\u001b[38;5;241;43m.\u001b[39;49m\u001b[43mone_minus_load_factor\u001b[49m\u001b[43m(\u001b[49m\u001b[43mget_net_electricity_consumption\u001b[49m\u001b[43m(\u001b[49m\u001b[38;5;28;43mself\u001b[39;49m\u001b[43m,\u001b[49m\u001b[43m \u001b[49m\u001b[43mbaseline_condition\u001b[49m\u001b[43m)\u001b[49m\u001b[43m,\u001b[49m\u001b[43m \u001b[49m\u001b[43mwindow\u001b[49m\u001b[38;5;241;43m=\u001b[39;49m\u001b[38;5;241;43m24\u001b[39;49m\u001b[43m)\u001b[49m\u001b[43m[\u001b[49m\u001b[38;5;241;43m-\u001b[39;49m\u001b[38;5;241;43m1\u001b[39;49m\u001b[43m]\u001b[49m,\n\u001b[1;32m   1009\u001b[0m },{\n\u001b[1;32m   1010\u001b[0m     \u001b[38;5;124m'\u001b[39m\u001b[38;5;124mcost_function\u001b[39m\u001b[38;5;124m'\u001b[39m: \u001b[38;5;124m'\u001b[39m\u001b[38;5;124mmonthly_one_minus_load_factor_average\u001b[39m\u001b[38;5;124m'\u001b[39m,\n\u001b[1;32m   1011\u001b[0m     \u001b[38;5;124m'\u001b[39m\u001b[38;5;124mvalue\u001b[39m\u001b[38;5;124m'\u001b[39m: CostFunction\u001b[38;5;241m.\u001b[39mone_minus_load_factor(get_net_electricity_consumption(\u001b[38;5;28mself\u001b[39m, control_condition), window\u001b[38;5;241m=\u001b[39m\u001b[38;5;241m730\u001b[39m)[\u001b[38;5;241m-\u001b[39m\u001b[38;5;241m1\u001b[39m]\u001b[38;5;241m/\u001b[39m\\\n\u001b[1;32m   1012\u001b[0m         CostFunction\u001b[38;5;241m.\u001b[39mone_minus_load_factor(get_net_electricity_consumption(\u001b[38;5;28mself\u001b[39m, baseline_condition), window\u001b[38;5;241m=\u001b[39m\u001b[38;5;241m730\u001b[39m)[\u001b[38;5;241m-\u001b[39m\u001b[38;5;241m1\u001b[39m],\n\u001b[1;32m   1013\u001b[0m }, {\n\u001b[1;32m   1014\u001b[0m     \u001b[38;5;124m'\u001b[39m\u001b[38;5;124mcost_function\u001b[39m\u001b[38;5;124m'\u001b[39m: \u001b[38;5;124m'\u001b[39m\u001b[38;5;124mdaily_peak_average\u001b[39m\u001b[38;5;124m'\u001b[39m,\n\u001b[1;32m   1015\u001b[0m     \u001b[38;5;124m'\u001b[39m\u001b[38;5;124mvalue\u001b[39m\u001b[38;5;124m'\u001b[39m: CostFunction\u001b[38;5;241m.\u001b[39mpeak(get_net_electricity_consumption(\u001b[38;5;28mself\u001b[39m, control_condition), window\u001b[38;5;241m=\u001b[39m\u001b[38;5;241m24\u001b[39m)[\u001b[38;5;241m-\u001b[39m\u001b[38;5;241m1\u001b[39m]\u001b[38;5;241m/\u001b[39m\\\n\u001b[1;32m   1016\u001b[0m         CostFunction\u001b[38;5;241m.\u001b[39mpeak(get_net_electricity_consumption(\u001b[38;5;28mself\u001b[39m, baseline_condition), window\u001b[38;5;241m=\u001b[39m\u001b[38;5;241m24\u001b[39m)[\u001b[38;5;241m-\u001b[39m\u001b[38;5;241m1\u001b[39m],\n\u001b[1;32m   1017\u001b[0m }, {\n\u001b[1;32m   1018\u001b[0m     \u001b[38;5;124m'\u001b[39m\u001b[38;5;124mcost_function\u001b[39m\u001b[38;5;124m'\u001b[39m: \u001b[38;5;124m'\u001b[39m\u001b[38;5;124mannual_peak_average\u001b[39m\u001b[38;5;124m'\u001b[39m,\n\u001b[1;32m   1019\u001b[0m     \u001b[38;5;124m'\u001b[39m\u001b[38;5;124mvalue\u001b[39m\u001b[38;5;124m'\u001b[39m: CostFunction\u001b[38;5;241m.\u001b[39mpeak(get_net_electricity_consumption(\u001b[38;5;28mself\u001b[39m, control_condition), window\u001b[38;5;241m=\u001b[39m\u001b[38;5;241m8760\u001b[39m)[\u001b[38;5;241m-\u001b[39m\u001b[38;5;241m1\u001b[39m]\u001b[38;5;241m/\u001b[39m\\\n\u001b[1;32m   1020\u001b[0m         CostFunction\u001b[38;5;241m.\u001b[39mpeak(get_net_electricity_consumption(\u001b[38;5;28mself\u001b[39m, baseline_condition), window\u001b[38;5;241m=\u001b[39m\u001b[38;5;241m8760\u001b[39m)[\u001b[38;5;241m-\u001b[39m\u001b[38;5;241m1\u001b[39m],\n\u001b[1;32m   1021\u001b[0m }])\n\u001b[1;32m   1023\u001b[0m district_level \u001b[38;5;241m=\u001b[39m pd\u001b[38;5;241m.\u001b[39mconcat([district_level, building_level], ignore_index\u001b[38;5;241m=\u001b[39m\u001b[38;5;28;01mTrue\u001b[39;00m, sort\u001b[38;5;241m=\u001b[39m\u001b[38;5;28;01mFalse\u001b[39;00m)\n\u001b[1;32m   1024\u001b[0m district_level \u001b[38;5;241m=\u001b[39m district_level\u001b[38;5;241m.\u001b[39mgroupby([\u001b[38;5;124m'\u001b[39m\u001b[38;5;124mcost_function\u001b[39m\u001b[38;5;124m'\u001b[39m])[[\u001b[38;5;124m'\u001b[39m\u001b[38;5;124mvalue\u001b[39m\u001b[38;5;124m'\u001b[39m]]\u001b[38;5;241m.\u001b[39mmean()\u001b[38;5;241m.\u001b[39mreset_index()\n",
      "\u001b[0;31mZeroDivisionError\u001b[0m: float division by zero"
     ]
    }
   ],
   "source": [
    "# print cost functions at the end of episode\n",
    "kpis = agent.env.evaluate(baseline_condition=EvaluationCondition.WITHOUT_STORAGE_BUT_WITH_PARTIAL_LOAD_AND_PV)\n",
    "kpis = kpis.pivot(index='cost_function', columns='name', values='value')\n",
    "kpis = kpis.dropna(how='all')\n",
    "display(kpis)"
   ]
  },
  {
   "cell_type": "code",
   "execution_count": null,
   "id": "3a6f3aab-4bc1-4aa0-bb62-cb7cf1575230",
   "metadata": {
    "tags": []
   },
   "outputs": [],
   "source": [
    "agent.learn(episodes=30, deterministic_finish=True)"
   ]
  },
  {
   "cell_type": "code",
   "execution_count": null,
   "id": "cf1e3747-cb3a-40a9-9306-9afd6dc66b7c",
   "metadata": {},
   "outputs": [],
   "source": []
  }
 ],
 "metadata": {
  "kernelspec": {
   "display_name": "Python 3 (ipykernel)",
   "language": "python",
   "name": "python3"
  },
  "language_info": {
   "codemirror_mode": {
    "name": "ipython",
    "version": 3
   },
   "file_extension": ".py",
   "mimetype": "text/x-python",
   "name": "python",
   "nbconvert_exporter": "python",
   "pygments_lexer": "ipython3",
   "version": "3.10.10"
  }
 },
 "nbformat": 4,
 "nbformat_minor": 5
}
