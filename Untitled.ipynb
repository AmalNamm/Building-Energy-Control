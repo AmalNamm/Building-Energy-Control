{
 "cells": [
  {
   "cell_type": "code",
   "execution_count": 79,
   "id": "69556e9d-ee38-45cf-a2ff-c1644822f388",
   "metadata": {
    "tags": []
   },
   "outputs": [
    {
     "name": "stdout",
     "output_type": "stream",
     "text": [
      "Requirement already satisfied: CityLearn==2.1b12 in /opt/conda/lib/python3.10/site-packages (2.1b12)\n",
      "Requirement already satisfied: gym>=0.21.0 in /opt/conda/lib/python3.10/site-packages (from CityLearn==2.1b12) (0.26.2)\n",
      "Requirement already satisfied: matplotlib in /opt/conda/lib/python3.10/site-packages (from CityLearn==2.1b12) (3.7.1)\n",
      "Requirement already satisfied: numpy>=1.21.6 in /opt/conda/lib/python3.10/site-packages (from CityLearn==2.1b12) (1.23.5)\n",
      "Requirement already satisfied: pandas==1.3.5 in /opt/conda/lib/python3.10/site-packages (from CityLearn==2.1b12) (1.3.5)\n",
      "Requirement already satisfied: scikit-learn==1.0.2 in /opt/conda/lib/python3.10/site-packages (from CityLearn==2.1b12) (1.0.2)\n",
      "Requirement already satisfied: simplejson in /opt/conda/lib/python3.10/site-packages (from CityLearn==2.1b12) (3.19.2)\n",
      "Requirement already satisfied: torch>=1.12.0 in /opt/conda/lib/python3.10/site-packages (from CityLearn==2.1b12) (1.12.0+cu116)\n",
      "Requirement already satisfied: torchvision>=0.13.0 in /opt/conda/lib/python3.10/site-packages (from CityLearn==2.1b12) (0.13.0+cu116)\n",
      "Requirement already satisfied: python-dateutil>=2.7.3 in /opt/conda/lib/python3.10/site-packages (from pandas==1.3.5->CityLearn==2.1b12) (2.8.2)\n",
      "Requirement already satisfied: pytz>=2017.3 in /opt/conda/lib/python3.10/site-packages (from pandas==1.3.5->CityLearn==2.1b12) (2023.3)\n",
      "Requirement already satisfied: scipy>=1.1.0 in /opt/conda/lib/python3.10/site-packages (from scikit-learn==1.0.2->CityLearn==2.1b12) (1.10.1)\n",
      "Requirement already satisfied: joblib>=0.11 in /opt/conda/lib/python3.10/site-packages (from scikit-learn==1.0.2->CityLearn==2.1b12) (1.2.0)\n",
      "Requirement already satisfied: threadpoolctl>=2.0.0 in /opt/conda/lib/python3.10/site-packages (from scikit-learn==1.0.2->CityLearn==2.1b12) (3.1.0)\n",
      "Requirement already satisfied: cloudpickle>=1.2.0 in /opt/conda/lib/python3.10/site-packages (from gym>=0.21.0->CityLearn==2.1b12) (2.2.1)\n",
      "Requirement already satisfied: gym-notices>=0.0.4 in /opt/conda/lib/python3.10/site-packages (from gym>=0.21.0->CityLearn==2.1b12) (0.0.8)\n",
      "Requirement already satisfied: typing-extensions in /opt/conda/lib/python3.10/site-packages (from torch>=1.12.0->CityLearn==2.1b12) (4.5.0)\n",
      "Requirement already satisfied: requests in /opt/conda/lib/python3.10/site-packages (from torchvision>=0.13.0->CityLearn==2.1b12) (2.28.2)\n",
      "Requirement already satisfied: pillow!=8.3.*,>=5.3.0 in /opt/conda/lib/python3.10/site-packages (from torchvision>=0.13.0->CityLearn==2.1b12) (9.2.0)\n",
      "Requirement already satisfied: contourpy>=1.0.1 in /opt/conda/lib/python3.10/site-packages (from matplotlib->CityLearn==2.1b12) (1.0.7)\n",
      "Requirement already satisfied: cycler>=0.10 in /opt/conda/lib/python3.10/site-packages (from matplotlib->CityLearn==2.1b12) (0.11.0)\n",
      "Requirement already satisfied: fonttools>=4.22.0 in /opt/conda/lib/python3.10/site-packages (from matplotlib->CityLearn==2.1b12) (4.39.3)\n",
      "Requirement already satisfied: kiwisolver>=1.0.1 in /opt/conda/lib/python3.10/site-packages (from matplotlib->CityLearn==2.1b12) (1.4.4)\n",
      "Requirement already satisfied: packaging>=20.0 in /opt/conda/lib/python3.10/site-packages (from matplotlib->CityLearn==2.1b12) (23.1)\n",
      "Requirement already satisfied: pyparsing>=2.3.1 in /opt/conda/lib/python3.10/site-packages (from matplotlib->CityLearn==2.1b12) (3.0.9)\n",
      "Requirement already satisfied: six>=1.5 in /opt/conda/lib/python3.10/site-packages (from python-dateutil>=2.7.3->pandas==1.3.5->CityLearn==2.1b12) (1.16.0)\n",
      "Requirement already satisfied: charset-normalizer<4,>=2 in /opt/conda/lib/python3.10/site-packages (from requests->torchvision>=0.13.0->CityLearn==2.1b12) (3.1.0)\n",
      "Requirement already satisfied: idna<4,>=2.5 in /opt/conda/lib/python3.10/site-packages (from requests->torchvision>=0.13.0->CityLearn==2.1b12) (3.4)\n",
      "Requirement already satisfied: urllib3<1.27,>=1.21.1 in /opt/conda/lib/python3.10/site-packages (from requests->torchvision>=0.13.0->CityLearn==2.1b12) (1.26.15)\n",
      "Requirement already satisfied: certifi>=2017.4.17 in /opt/conda/lib/python3.10/site-packages (from requests->torchvision>=0.13.0->CityLearn==2.1b12) (2023.7.22)\n"
     ]
    }
   ],
   "source": [
    "!pip install CityLearn==2.1b12"
   ]
  },
  {
   "cell_type": "code",
   "execution_count": 1,
   "id": "d2e6e2ce-0fa9-4444-b9bc-27f4440144cc",
   "metadata": {
    "tags": []
   },
   "outputs": [],
   "source": [
    "import citylearn"
   ]
  },
  {
   "cell_type": "code",
   "execution_count": 2,
   "id": "74ec62c2-398e-4096-aa93-b847dc9876cd",
   "metadata": {
    "tags": []
   },
   "outputs": [
    {
     "name": "stdout",
     "output_type": "stream",
     "text": [
      "2.1b12\n"
     ]
    }
   ],
   "source": [
    "print(citylearn.__version__)\n"
   ]
  },
  {
   "cell_type": "code",
   "execution_count": null,
   "id": "3b070135-7601-4c74-ba7c-0c766258e6ef",
   "metadata": {},
   "outputs": [],
   "source": []
  }
 ],
 "metadata": {
  "kernelspec": {
   "display_name": "Python 3 (ipykernel)",
   "language": "python",
   "name": "python3"
  },
  "language_info": {
   "codemirror_mode": {
    "name": "ipython",
    "version": 3
   },
   "file_extension": ".py",
   "mimetype": "text/x-python",
   "name": "python",
   "nbconvert_exporter": "python",
   "pygments_lexer": "ipython3",
   "version": "3.10.10"
  }
 },
 "nbformat": 4,
 "nbformat_minor": 5
}
