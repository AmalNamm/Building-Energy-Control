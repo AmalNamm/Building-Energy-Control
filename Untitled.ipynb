{
 "cells": [
  {
   "cell_type": "code",
   "execution_count": 13,
   "id": "10fb26c6-fcee-411c-a01b-d6b6c97aea09",
   "metadata": {
    "tags": []
   },
   "outputs": [
    {
     "ename": "ImportError",
     "evalue": "cannot import name 'ComfortReward' from 'citylearn.reward_function' (/opt/conda/lib/python3.10/site-packages/citylearn/reward_function.py)",
     "output_type": "error",
     "traceback": [
      "\u001b[0;31m---------------------------------------------------------------------------\u001b[0m",
      "\u001b[0;31mImportError\u001b[0m                               Traceback (most recent call last)",
      "File \u001b[0;32m~/work/Neurips CityLearn/GIT/citylearn-2023-starter-kit/local_evaluation.py:14\u001b[0m\n\u001b[1;32m      7\u001b[0m \u001b[38;5;124;03m\"\"\"\u001b[39;00m\n\u001b[1;32m      8\u001b[0m \u001b[38;5;124;03mThis is only a reference script provided to allow you \u001b[39;00m\n\u001b[1;32m      9\u001b[0m \u001b[38;5;124;03mto do local evaluation. The evaluator **DOES NOT** \u001b[39;00m\n\u001b[1;32m     10\u001b[0m \u001b[38;5;124;03muse this script for orchestrating the evaluations. \u001b[39;00m\n\u001b[1;32m     11\u001b[0m \u001b[38;5;124;03m\"\"\"\u001b[39;00m\n\u001b[1;32m     13\u001b[0m \u001b[38;5;28;01mfrom\u001b[39;00m \u001b[38;5;21;01magents\u001b[39;00m\u001b[38;5;21;01m.\u001b[39;00m\u001b[38;5;21;01muser_agent\u001b[39;00m \u001b[38;5;28;01mimport\u001b[39;00m SubmissionAgent\n\u001b[0;32m---> 14\u001b[0m \u001b[38;5;28;01mfrom\u001b[39;00m \u001b[38;5;21;01mrewards\u001b[39;00m\u001b[38;5;21;01m.\u001b[39;00m\u001b[38;5;21;01muser_reward\u001b[39;00m \u001b[38;5;28;01mimport\u001b[39;00m SubmissionReward\n\u001b[1;32m     16\u001b[0m \u001b[38;5;28;01mclass\u001b[39;00m \u001b[38;5;21;01mWrapperEnv\u001b[39;00m:\n\u001b[1;32m     17\u001b[0m \u001b[38;5;250m    \u001b[39m\u001b[38;5;124;03m\"\"\"\u001b[39;00m\n\u001b[1;32m     18\u001b[0m \u001b[38;5;124;03m    Env to wrap provide Citylearn Env data without providing full env\u001b[39;00m\n\u001b[1;32m     19\u001b[0m \u001b[38;5;124;03m    Preventing attribute access outside of the available functions\u001b[39;00m\n\u001b[1;32m     20\u001b[0m \u001b[38;5;124;03m    \"\"\"\u001b[39;00m\n",
      "File \u001b[0;32m~/work/Neurips CityLearn/GIT/citylearn-2023-starter-kit/rewards/user_reward.py:1\u001b[0m\n\u001b[0;32m----> 1\u001b[0m \u001b[38;5;28;01mfrom\u001b[39;00m \u001b[38;5;21;01mrewards\u001b[39;00m\u001b[38;5;21;01m.\u001b[39;00m\u001b[38;5;21;01mcomfort_reward\u001b[39;00m \u001b[38;5;28;01mimport\u001b[39;00m ComfortRewardFunction\n\u001b[1;32m      3\u001b[0m \u001b[38;5;66;03m###################################################################\u001b[39;00m\n\u001b[1;32m      4\u001b[0m \u001b[38;5;66;03m#####                Specify your reward here                 #####\u001b[39;00m\n\u001b[1;32m      5\u001b[0m \u001b[38;5;66;03m###################################################################\u001b[39;00m\n\u001b[1;32m      7\u001b[0m SubmissionReward \u001b[38;5;241m=\u001b[39m ComfortRewardFunction\n",
      "File \u001b[0;32m~/work/Neurips CityLearn/GIT/citylearn-2023-starter-kit/rewards/comfort_reward.py:1\u001b[0m\n\u001b[0;32m----> 1\u001b[0m \u001b[38;5;28;01mfrom\u001b[39;00m \u001b[38;5;21;01mcitylearn\u001b[39;00m\u001b[38;5;21;01m.\u001b[39;00m\u001b[38;5;21;01mreward_function\u001b[39;00m \u001b[38;5;28;01mimport\u001b[39;00m ComfortReward\n\u001b[1;32m      3\u001b[0m \u001b[38;5;28;01mclass\u001b[39;00m \u001b[38;5;21;01mComfortRewardFunction\u001b[39;00m(ComfortReward):\n\u001b[1;32m      4\u001b[0m \u001b[38;5;250m    \u001b[39m\u001b[38;5;124;03m\"\"\" Simple passthrough example of comfort reward from Citylearn env \"\"\"\u001b[39;00m\n",
      "\u001b[0;31mImportError\u001b[0m: cannot import name 'ComfortReward' from 'citylearn.reward_function' (/opt/conda/lib/python3.10/site-packages/citylearn/reward_function.py)"
     ]
    }
   ],
   "source": [
    "%run local_evaluation.py"
   ]
  },
  {
   "cell_type": "code",
   "execution_count": null,
   "id": "39f033c5-5dbc-4630-86d6-41e3fb272fa3",
   "metadata": {},
   "outputs": [],
   "source": []
  }
 ],
 "metadata": {
  "kernelspec": {
   "display_name": "Python 3 (ipykernel)",
   "language": "python",
   "name": "python3"
  },
  "language_info": {
   "codemirror_mode": {
    "name": "ipython",
    "version": 3
   },
   "file_extension": ".py",
   "mimetype": "text/x-python",
   "name": "python",
   "nbconvert_exporter": "python",
   "pygments_lexer": "ipython3",
   "version": "3.10.10"
  }
 },
 "nbformat": 4,
 "nbformat_minor": 5
}
